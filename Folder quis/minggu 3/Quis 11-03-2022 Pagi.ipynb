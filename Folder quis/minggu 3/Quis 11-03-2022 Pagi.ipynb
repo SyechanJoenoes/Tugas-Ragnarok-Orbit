{
 "cells": [
  {
   "cell_type": "markdown",
   "id": "6374ad0e",
   "metadata": {},
   "source": [
    "### Python oop\n",
    "\n",
    "1. apa itu oop dan buat 2 implementasi konsep oop"
   ]
  },
  {
   "cell_type": "code",
   "execution_count": 5,
   "id": "9bd1e24c",
   "metadata": {},
   "outputs": [
    {
     "name": "stdout",
     "output_type": "stream",
     "text": [
      "merek: united, warna: merah\n"
     ]
    }
   ],
   "source": [
    "# nomor 1 Encapsulation\n",
    "\n",
    "class sepeda(object):\n",
    "\n",
    "    nama_sepeda = \"\"\n",
    "    def __init__(self, merek_sepeda, warna_sepeda):\n",
    "        self.merek = merek_sepeda\n",
    "        self.warna = warna_sepeda\n",
    "        \n",
    "    def info(self):\n",
    "        print(f\"merek: {self.merek}, warna: {self.warna}\")\n",
    "\n",
    "sepeda1 =  sepeda(\"united\", \"merah\")\n",
    "\n",
    "sepeda1.info()"
   ]
  },
  {
   "cell_type": "code",
   "execution_count": 12,
   "id": "3fb00bf5",
   "metadata": {},
   "outputs": [
    {
     "name": "stdout",
     "output_type": "stream",
     "text": [
      "nama: semangka\n"
     ]
    }
   ],
   "source": [
    "# nomor 2 Inheritence\n",
    "\n",
    "class makanan(object):\n",
    "\n",
    "    def __init__(self,nama):\n",
    "            self.nama = nama\n",
    "            \n",
    "    def info(self):\n",
    "        print(f\"nama: {self.nama}\")\n",
    "            \n",
    "makanan1 = makanan(\"semangka\")\n",
    "\n",
    "makanan1.info()"
   ]
  },
  {
   "cell_type": "markdown",
   "id": "d2bb4a40",
   "metadata": {},
   "source": [
    "2. sebutkan 2 module yang ada di python\n",
    "    - modul ada modul bawaaan dari python yang sudah berisi stament dan tidak bisa diganti\n",
    "    - ada custom module yaitu berisi statemtn yang kita bikin sendiri lalu bisa diubah sesuai kebutuhan"
   ]
  },
  {
   "cell_type": "markdown",
   "id": "912b29e7",
   "metadata": {},
   "source": [
    "3. hitunglah berapa hasil dari akar √175 + 4√7 + (1/3) + 3Log 81 menggunakan module path\n"
   ]
  },
  {
   "cell_type": "code",
   "execution_count": 6,
   "id": "a34f063c",
   "metadata": {},
   "outputs": [],
   "source": [
    "import math"
   ]
  },
  {
   "cell_type": "code",
   "execution_count": 16,
   "id": "7dd982c1",
   "metadata": {},
   "outputs": [
    {
     "name": "stdout",
     "output_type": "stream",
     "text": [
      "32.03693997480278\n"
     ]
    }
   ],
   "source": [
    "S = math.sqrt(175) + 2*math.sqrt(7) + (1/3)  + 3*math.log(81)\n",
    "print(S)"
   ]
  },
  {
   "cell_type": "markdown",
   "id": "4cc104a4",
   "metadata": {},
   "source": [
    "4. apa itu custom exception handling dan berikan contoh implementasinya\n",
    "    - custom exception handling adalah cara untuk menjalankan program tanpa interupsi jika program tersebut eror, jadi bisa langsung di ubah kondisinya agar tidar terjadi eror tapi akan keluar suatu program yang menyatakan bahwa syntax tersebut eror tapi program tetap berjalan tidak mengalami eror\n",
    "    \n"
   ]
  },
  {
   "cell_type": "code",
   "execution_count": 23,
   "id": "6c1bc83c",
   "metadata": {},
   "outputs": [
    {
     "name": "stdout",
     "output_type": "stream",
     "text": [
      "masukan a:2\n",
      "masukan b:0\n",
      "Tidak bisa dibagi dengan nol\n"
     ]
    }
   ],
   "source": [
    "# contoh custom exception program yang tidak bisa dibagi dengan angka 0\n",
    "\n",
    "try:  \n",
    "    a = int(input(\"masukan a:\"))    \n",
    "    b = int(input(\"masukan b:\"))    \n",
    "    c = a/b  \n",
    "    print(c)\n",
    "except:  \n",
    "    print(\"Tidak bisa dibagi dengan nol\")  "
   ]
  },
  {
   "cell_type": "markdown",
   "id": "88a5eb84",
   "metadata": {},
   "source": [
    "### Artificial Intellegence"
   ]
  },
  {
   "cell_type": "markdown",
   "id": "d5870410",
   "metadata": {},
   "source": [
    "1. apa perbedaan structured dan unstructured data dan berikan 3 contoh sumber data\n",
    "- Structured data :\n",
    "    - data nya tabular biasanya berbentuk tabel dan kolom database\n",
    "    - datanya lebih mudah diolah \n",
    "- unstructured data :\n",
    "    - datanya bisa berbentuk picture, video, ataupun voice\n",
    "    - biasanya datanya sisah untuk diolah jika tidak di kovert\n",
    "    "
   ]
  },
  {
   "cell_type": "markdown",
   "id": "ad9387e3",
   "metadata": {},
   "source": [
    "2. jelaskan perbedaan AI, Machine Learning, dan deep learning\n",
    "- AI ( kecerdasan buatan) adalah suatu orogram buatan yang bisa membuat suatu komputer berjalan, sedangkan machine learning adalah suatu metode yang bisa membuat program AI itu berjalan dan juga deep learning itu juga suatu metode dari machine learning yang mempelajari msein lebih dalah untuk memperoleh suatu informasi yang nantinya akan menjadi kecerdasan"
   ]
  },
  {
   "cell_type": "markdown",
   "id": "6aeeb660",
   "metadata": {},
   "source": [
    "3. apa perbedaan machine learning dengan traditional software\n",
    "- Traditional software \n",
    "    -  Di tradisonal software , kita tidak perlu memiliki data existing, malah dari program yang dibuat tersebut dimaksudkan untuk menambang data yang ada. Jadi kita tidak memerlukan data lama\n",
    "    - tidak dapat melakukan prediksi. Hal ini dikarenakan software biasa hanya dapat menampilkan/memvisualisasikan\n",
    "\n",
    "- machine learning\n",
    "    - Machine learning  adalah pendekatan development software yang menggunakan data dari masa lalu untuk memprediksi pola kemudian dari pola tersebut dapat kita tafsirkan kecenderungan hasil\n",
    "    - Machine learning sangat baik jika data yang digunakan baik."
   ]
  },
  {
   "cell_type": "markdown",
   "id": "3db4aea3",
   "metadata": {},
   "source": [
    "4. sebutkan 3 contoh aplikasi machine learning di sektor smart city dan agricultule\n",
    "- di agriculture bisa meng implementasi kapan tahu siklus tanaman siap ditanam\n",
    "- jumlah air yang dibutuh kan sesuai kondisi tanah\n",
    "- smart city bisa di implementasikan yaitu pendeteksi pelanggaran lalu lintas seperti e-tilang "
   ]
  },
  {
   "cell_type": "markdown",
   "id": "613f6632",
   "metadata": {},
   "source": [
    "### Math for AI"
   ]
  },
  {
   "cell_type": "markdown",
   "id": "d97af7dd",
   "metadata": {},
   "source": [
    "1. mengapa ilmu matematika penting ketika mempelajari AI?\n",
    "- sangat penting karena AI itu berhubungan dengan prediksi dan statistik data, yang artinya perlu pemahaman di matematika\n"
   ]
  },
  {
   "cell_type": "markdown",
   "id": "961cef86",
   "metadata": {},
   "source": [
    "2. jelaskan perbedaan vektor dan skalar\n",
    "- perbedaan yang terlihat jelas adalah vektor itu bergantung pada arah sedangkan skalar tidak\n",
    "\n",
    "- Besaran skalar berupa jarak, waktu, tekanan, suhu, muatan listrik, volume, masa jenis, kapasitas, dan potensial listrik., sedangkan contoh besaran vektor berupa perpindahan, impuls, kecepatan, momentum, percepatan, momen gaya, kuat medan listrik, kuat medan magnet, dan gaya.\n",
    "\n",
    "- Untuk menghitung besarn vektor agak kompleks, sedangkan untuk menghitung besaran skalar dapat dilakukan dengan aljabar biasa."
   ]
  },
  {
   "cell_type": "markdown",
   "id": "7d241e94",
   "metadata": {},
   "source": [
    "3. apa perbedaan dari jarak euclidean dan manhattan\n",
    "- Perbandingan akurasi  metode pengukuran  jarak (euclidean, manhattan)  untuk tingkat akurasi  yang tinggi,  yaitu 84.47%  (untuk metode euclidean distance),  83.85%  (untuk  metode  manhattan distance)\n",
    "- metode  euclidean meupakan metode terbaik untuk diterapkan dalam algoritma K-Means  Clustering."
   ]
  },
  {
   "cell_type": "markdown",
   "id": "9ad59830",
   "metadata": {},
   "source": [
    "4. apa kegunaan matrix dalam ilmu matematika ketikamenerapkan AI?\n",
    "- kegunaan matrix ialah untuk di hitung semua kemungkinan dan juga sebagai bentuk dari proses, maksudnya ialah jika ada suatu gambar mau di klasifikasi nantinya informasi dari gambar tersebut di ubah kedalam bentuk matrix"
   ]
  },
  {
   "cell_type": "markdown",
   "id": "8647b133",
   "metadata": {},
   "source": [
    "### Machine Learning"
   ]
  },
  {
   "cell_type": "markdown",
   "id": "cae9ecdc",
   "metadata": {},
   "source": [
    "1. jelaskan supervised dan unsupervised learning\n",
    "- supervised Learning adalah machine learning model yang membutuhkan data target sedangkan Unsupervised Learning tidak memerlukan data target\n",
    "- Secara konsep Supervised Learning adalah Machine Learning model yang mempelajari data dengan label atau target dimana evaluasi model tersebut akan berdasarkan target ini. Sebaliknya Unsupervised Learning adalah Machine Learning Model yang mempelajari pola data tanpa adanya target data."
   ]
  },
  {
   "cell_type": "markdown",
   "id": "5f4f1e04",
   "metadata": {},
   "source": [
    "2. "
   ]
  },
  {
   "cell_type": "markdown",
   "id": "5b10138f",
   "metadata": {},
   "source": [
    "3. apa perbedaan regresion dan clustering? \n",
    "-  regresi\n",
    " - Analisis regresi berguna untuk mengurangi error atau selisih yang ditemukan sehingga fungsi dari model suatu data dapat diketahui\n",
    "- klastering\n",
    " - Pada metode clustering memiliki tiga algoritma yang dapat digunakan untuk mengolah data\n",
    "  - Partition-based clustering digunakan untuk mengklasterkan data-data dengan bagian paling kecil seperti K-median, K-means maupun Fuzzy C-means.\n",
    "  - Density-based algoritma adalah salah satu metode pengklasteran yang paling fleksible karena dapat disesuaikan dengan kehendaknya. Akibatnya ketika terdapat noise pada dataset, algoritma tetap akan bekerja dengan baik, contohnya DBSCAN.\n",
    "  - Terakhir adalah hierarchical clustering yang berguna untuk mengklasterkan data-data dengan ukuran sangat kecil. Sebab, jenis algoritmanya sangat intuitif dan berupa pohon-pohon klaster."
   ]
  },
  {
   "cell_type": "code",
   "execution_count": null,
   "id": "de98f719",
   "metadata": {},
   "outputs": [],
   "source": []
  }
 ],
 "metadata": {
  "kernelspec": {
   "display_name": "Python 3",
   "language": "python",
   "name": "python3"
  },
  "language_info": {
   "codemirror_mode": {
    "name": "ipython",
    "version": 3
   },
   "file_extension": ".py",
   "mimetype": "text/x-python",
   "name": "python",
   "nbconvert_exporter": "python",
   "pygments_lexer": "ipython3",
   "version": "3.8.8"
  }
 },
 "nbformat": 4,
 "nbformat_minor": 5
}
