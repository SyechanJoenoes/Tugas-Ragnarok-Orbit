{
 "cells": [
  {
   "cell_type": "markdown",
   "id": "290922ac",
   "metadata": {},
   "source": [
    "### oop 1"
   ]
  },
  {
   "cell_type": "code",
   "execution_count": 31,
   "id": "7f5012fc",
   "metadata": {},
   "outputs": [
    {
     "name": "stdout",
     "output_type": "stream",
     "text": [
      "bergerak di: darat\n",
      "jenisnya sepeda: lipat, warna nya : merah\n",
      "bergerak di: udara\n",
      "jenisnya pesawat tempur, warna nya : hitam\n"
     ]
    }
   ],
   "source": [
    "#abstraction\n",
    "from abc import abstractmethod, ABC\n",
    "\n",
    "#encapsulation\n",
    "class kendaraan(ABC):\n",
    "\n",
    "    def __init__(self, tempat, ):\n",
    "        self.tempat = tempat\n",
    "        \n",
    "    def info(self):\n",
    "        print(f\"bergerak di: {self.tempat}\")\n",
    "k = kendaraan\n",
    "kendaraan1 =  kendaraan(\"darat\")\n",
    "\n",
    "#inheritence\n",
    "class sepeda(kendaraan):\n",
    "    def __init__(self,tempat,jenis, warna):\n",
    "        super().__init__(tempat)\n",
    "        self.jenis = jenis\n",
    "        self.warna = warna\n",
    "\n",
    "\n",
    "    def info_sepeda(self):\n",
    "        super().info()\n",
    "        print(f\"jenisnya sepeda: {self.jenis}, warna nya : {self.warna}\")\n",
    "s = sepeda\n",
    "sepeda1 = sepeda(\"darat\", \"lipat\",\"merah\")\n",
    "\n",
    "#polymorphism\n",
    "\n",
    "class pesawat(kendaraan):\n",
    "    def __init__(self,tempat,jenis,warna):\n",
    "        super().__init__(tempat)\n",
    "        self.jenis = jenis\n",
    "        self.warna = warna\n",
    "\n",
    "\n",
    "    def info_pesawat(self):\n",
    "        super().info()\n",
    "        print(f\"jenisnya pesawat {self.jenis}, warna nya : {self.warna}\")\n",
    "p = pesawat\n",
    "pesawat = pesawat(\"udara\", \"tempur\",\"hitam\")\n",
    "\n",
    "sepeda1.info_sepeda()\n",
    "\n",
    "pesawat.info_pesawat()\n",
    "\n"
   ]
  },
  {
   "cell_type": "markdown",
   "id": "93386c05",
   "metadata": {},
   "source": [
    "### oop2"
   ]
  },
  {
   "cell_type": "code",
   "execution_count": 35,
   "id": "59c55117",
   "metadata": {},
   "outputs": [
    {
     "name": "stdout",
     "output_type": "stream",
     "text": [
      "tanaman jenis buah-buahan\n",
      "adalah buah pangan\n",
      "tanaman jenis tanaman hias\n",
      "adalah tanaman hias janda bolong\n"
     ]
    }
   ],
   "source": [
    "#abstraction\n",
    "from abc import abstractmethod, ABC\n",
    "\n",
    "#encapsulation\n",
    "class tanaman(ABC):\n",
    "\n",
    "    def __init__(self, jenis, ):\n",
    "        self.jenis = jenis\n",
    "        \n",
    "    def info(self):\n",
    "        print(f\"tanaman jenis {self.jenis}\")\n",
    "t = tanaman\n",
    "tanaman1 =  tanaman(\"pangan\")\n",
    "\n",
    "#inheritence\n",
    "class buah(tanaman):\n",
    "    def __init__(self,jenis, nama):\n",
    "        super().__init__(jenis)\n",
    "        self.nama = nama\n",
    "\n",
    "\n",
    "    def info_buah(self):\n",
    "        super().info()\n",
    "        print(f\"adalah buah {self.nama}\")\n",
    "b = buah\n",
    "buah1 = buah(\"buah-buahan\",\"pangan\")\n",
    "\n",
    "#polymorphism\n",
    "\n",
    "class hias(tanaman):\n",
    "    def __init__(self,jenis, nama):\n",
    "        super().__init__(jenis)\n",
    "        self.nama = nama\n",
    "\n",
    "\n",
    "    def info_hias(self):\n",
    "        super().info()\n",
    "        print(f\"adalah tanaman hias {self.nama}\")\n",
    "h = hias\n",
    "hias1 = hias(\"tanaman hias\",\"janda bolong\")\n",
    "\n",
    "buah1.info_buah()\n",
    "\n",
    "hias1.info_hias()\n",
    "\n"
   ]
  },
  {
   "cell_type": "markdown",
   "id": "de51123d",
   "metadata": {},
   "source": [
    "### oop 3"
   ]
  },
  {
   "cell_type": "code",
   "execution_count": 39,
   "id": "7708e4f4",
   "metadata": {},
   "outputs": [
    {
     "name": "stdout",
     "output_type": "stream",
     "text": [
      "ini adalah galaxy bimasakti\n",
      "terdapat planet bumi\n",
      "ini adalah galaxy bimasakti\n",
      "terdapat satelit bernama bulan\n"
     ]
    }
   ],
   "source": [
    "#abstraction\n",
    "from abc import abstractmethod, ABC\n",
    "\n",
    "#encapsulation\n",
    "class galaxy(ABC):\n",
    "\n",
    "    def __init__(self, nama ):\n",
    "        self.nama = nama\n",
    "        \n",
    "    def info(self):\n",
    "        print(f\"ini adalah galaxy {self.nama}\")\n",
    "g = galaxy\n",
    "galaxy1 =  galaxy(\"bimasakti\")\n",
    "\n",
    "#inheritence\n",
    "class planet(galaxy):\n",
    "    def __init__(self,nama,jenis):\n",
    "        super().__init__(nama)\n",
    "        self.jenis = jenis\n",
    "\n",
    "\n",
    "    def info_planet(self):\n",
    "        super().info()\n",
    "        print(f\"terdapat planet {self.jenis}\")\n",
    "p = planet\n",
    "planet1 = planet(\"bimasakti\",\"bumi\")\n",
    "\n",
    "#polymorphism\n",
    "\n",
    "class satelit(galaxy):\n",
    "    def __init__(self,nama,jenis):\n",
    "        super().__init__(nama)\n",
    "        self.jenis = jenis\n",
    "\n",
    "\n",
    "    def info_satelit(self):\n",
    "        super().info()\n",
    "        print(f\"terdapat satelit bernama {self.jenis}\")\n",
    "s = satelit\n",
    "satelit1 = satelit(\"bimasakti\",\"bulan\")\n",
    "\n",
    "planet1.info_planet()\n",
    "\n",
    "satelit1.info_satelit()\n"
   ]
  },
  {
   "cell_type": "code",
   "execution_count": null,
   "id": "1adb0bc9",
   "metadata": {},
   "outputs": [],
   "source": []
  }
 ],
 "metadata": {
  "kernelspec": {
   "display_name": "Python 3",
   "language": "python",
   "name": "python3"
  },
  "language_info": {
   "codemirror_mode": {
    "name": "ipython",
    "version": 3
   },
   "file_extension": ".py",
   "mimetype": "text/x-python",
   "name": "python",
   "nbconvert_exporter": "python",
   "pygments_lexer": "ipython3",
   "version": "3.8.8"
  }
 },
 "nbformat": 4,
 "nbformat_minor": 5
}
