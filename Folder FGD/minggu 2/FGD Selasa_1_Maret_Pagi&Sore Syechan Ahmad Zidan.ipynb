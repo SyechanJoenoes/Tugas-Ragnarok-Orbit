{
 "cells": [
  {
   "cell_type": "code",
   "execution_count": 1,
   "id": "801b228d",
   "metadata": {},
   "outputs": [],
   "source": [
    "# belajar awal phyton\n"
   ]
  },
  {
   "cell_type": "code",
   "execution_count": 2,
   "id": "ca579bda",
   "metadata": {},
   "outputs": [
    {
     "name": "stdout",
     "output_type": "stream",
     "text": [
      "hallo ini contoh\n"
     ]
    }
   ],
   "source": [
    "print('hallo ini contoh')"
   ]
  },
  {
   "cell_type": "code",
   "execution_count": 3,
   "id": "dbdd23cc",
   "metadata": {},
   "outputs": [
    {
     "name": "stdout",
     "output_type": "stream",
     "text": [
      "ini contoh yang seperti spasi\n",
      "\n",
      "spasi diatas\n"
     ]
    }
   ],
   "source": [
    "print('ini contoh yang seperti spasi')\n",
    "print()\n",
    "print('spasi diatas')"
   ]
  },
  {
   "cell_type": "code",
   "execution_count": 4,
   "id": "d4902e2f",
   "metadata": {},
   "outputs": [],
   "source": [
    "#ini contoh memakai variabel\n",
    "s=10"
   ]
  },
  {
   "cell_type": "code",
   "execution_count": 5,
   "id": "8ad5a1aa",
   "metadata": {},
   "outputs": [
    {
     "name": "stdout",
     "output_type": "stream",
     "text": [
      "10\n"
     ]
    }
   ],
   "source": [
    "print(s)"
   ]
  },
  {
   "cell_type": "code",
   "execution_count": 6,
   "id": "ee3aa79d",
   "metadata": {},
   "outputs": [],
   "source": [
    "s=('hellow ini syechan')"
   ]
  },
  {
   "cell_type": "code",
   "execution_count": 10,
   "id": "7900d451",
   "metadata": {},
   "outputs": [
    {
     "name": "stdout",
     "output_type": "stream",
     "text": [
      "w\n"
     ]
    }
   ],
   "source": [
    "print(s[5])"
   ]
  },
  {
   "cell_type": "code",
   "execution_count": 11,
   "id": "6c621e1e",
   "metadata": {},
   "outputs": [
    {
     "name": "stdout",
     "output_type": "stream",
     "text": [
      " ini s\n"
     ]
    }
   ],
   "source": [
    "print(s[6:12])"
   ]
  },
  {
   "cell_type": "code",
   "execution_count": 15,
   "id": "251b15ba",
   "metadata": {},
   "outputs": [
    {
     "name": "stdout",
     "output_type": "stream",
     "text": [
      "\n"
     ]
    }
   ],
   "source": [
    "print(s[-5:8])"
   ]
  },
  {
   "cell_type": "code",
   "execution_count": 16,
   "id": "3812e346",
   "metadata": {},
   "outputs": [
    {
     "name": "stdout",
     "output_type": "stream",
     "text": [
      " iy\n"
     ]
    }
   ],
   "source": [
    "print(s[6:15:3])"
   ]
  },
  {
   "cell_type": "code",
   "execution_count": 17,
   "id": "a29b16e2",
   "metadata": {},
   "outputs": [],
   "source": [
    "s1=('ada')\n",
    "s2=(\"apa\")\n",
    "s3=('sekarang')"
   ]
  },
  {
   "cell_type": "code",
   "execution_count": 18,
   "id": "e7b46d70",
   "metadata": {},
   "outputs": [
    {
     "name": "stdout",
     "output_type": "stream",
     "text": [
      "adasekarangapa\n"
     ]
    }
   ],
   "source": [
    "print(s1+s3+s2)"
   ]
  },
  {
   "cell_type": "code",
   "execution_count": 19,
   "id": "7b5c8400",
   "metadata": {},
   "outputs": [
    {
     "name": "stdout",
     "output_type": "stream",
     "text": [
      "Hello_Hello_Hello_\n"
     ]
    }
   ],
   "source": [
    "print(\"Hello_\" * 3)"
   ]
  },
  {
   "cell_type": "code",
   "execution_count": 20,
   "id": "19807c7e",
   "metadata": {},
   "outputs": [
    {
     "name": "stdout",
     "output_type": "stream",
     "text": [
      "jika ada, hari apa, inisekarang \n"
     ]
    }
   ],
   "source": [
    "print(\"jika {}, hari {}, ini{} \".format(s1, s2, s3))"
   ]
  },
  {
   "cell_type": "code",
   "execution_count": 22,
   "id": "dc3958fd",
   "metadata": {},
   "outputs": [
    {
     "name": "stdout",
     "output_type": "stream",
     "text": [
      "3\n"
     ]
    }
   ],
   "source": [
    "print (1+2)"
   ]
  },
  {
   "cell_type": "code",
   "execution_count": null,
   "id": "6f1ae312",
   "metadata": {},
   "outputs": [],
   "source": []
  }
 ],
 "metadata": {
  "kernelspec": {
   "display_name": "Python 3",
   "language": "python",
   "name": "python3"
  },
  "language_info": {
   "codemirror_mode": {
    "name": "ipython",
    "version": 3
   },
   "file_extension": ".py",
   "mimetype": "text/x-python",
   "name": "python",
   "nbconvert_exporter": "python",
   "pygments_lexer": "ipython3",
   "version": "3.8.8"
  }
 },
 "nbformat": 4,
 "nbformat_minor": 5
}
