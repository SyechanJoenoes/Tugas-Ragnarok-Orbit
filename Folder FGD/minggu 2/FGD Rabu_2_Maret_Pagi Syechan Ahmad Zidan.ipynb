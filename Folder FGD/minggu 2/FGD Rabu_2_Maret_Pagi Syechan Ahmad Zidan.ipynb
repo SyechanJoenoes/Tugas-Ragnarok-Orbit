{
 "cells": [
  {
   "cell_type": "markdown",
   "id": "2532da13",
   "metadata": {},
   "source": [
    "## FGD Sesi pagi_Rabu_2 maret_2022\n",
    "\n",
    "\n",
    "### Syechan Ahmad Zidan_Universitas Muhammadiyah Jakarta"
   ]
  },
  {
   "cell_type": "markdown",
   "id": "cd266f12",
   "metadata": {},
   "source": [
    "## 1. Berikut ini adalah tiga variabel yang menyimpan value dengan tipe boolean. Dengan menggunakan variabel tersebut, cobalah untuk mengerjakan soal 1 - 5 ! (Akan lebih seru jika kamu menebak terlebih dahulu hasilnya, kemudian baru implementasikan ke dalam kode program. Jika terdapat error, cobalah untuk menyelesaikannya sendiri terlebih dahulu).\n",
    "a = False\n",
    "b = True\n",
    "c = False\n",
    "1. (b and c)\n",
    "2. b or c\n",
    "3. not a and b\n",
    "4. (a and b) or not c\n",
    "5. not b and not (a or c) \n"
   ]
  },
  {
   "cell_type": "markdown",
   "id": "c742f6cb",
   "metadata": {},
   "source": [
    "#### Jawaban \n",
    "1. false\n",
    "2. true\n",
    "3. true\n",
    "4. true\n",
    "5. false"
   ]
  },
  {
   "cell_type": "code",
   "execution_count": 2,
   "id": "3e14429a",
   "metadata": {},
   "outputs": [],
   "source": [
    "a = False\n",
    "b = True\n",
    "c = False"
   ]
  },
  {
   "cell_type": "code",
   "execution_count": 22,
   "id": "db1c4a36",
   "metadata": {},
   "outputs": [
    {
     "data": {
      "text/plain": [
       "False"
      ]
     },
     "execution_count": 22,
     "metadata": {},
     "output_type": "execute_result"
    }
   ],
   "source": [
    "(b and c)"
   ]
  },
  {
   "cell_type": "code",
   "execution_count": 23,
   "id": "f143969e",
   "metadata": {},
   "outputs": [
    {
     "data": {
      "text/plain": [
       "True"
      ]
     },
     "execution_count": 23,
     "metadata": {},
     "output_type": "execute_result"
    }
   ],
   "source": [
    "b or c"
   ]
  },
  {
   "cell_type": "code",
   "execution_count": 24,
   "id": "51489910",
   "metadata": {},
   "outputs": [
    {
     "data": {
      "text/plain": [
       "True"
      ]
     },
     "execution_count": 24,
     "metadata": {},
     "output_type": "execute_result"
    }
   ],
   "source": [
    "not a and b"
   ]
  },
  {
   "cell_type": "code",
   "execution_count": 25,
   "id": "ba084d4c",
   "metadata": {},
   "outputs": [
    {
     "data": {
      "text/plain": [
       "True"
      ]
     },
     "execution_count": 25,
     "metadata": {},
     "output_type": "execute_result"
    }
   ],
   "source": [
    "(a and b) or not c"
   ]
  },
  {
   "cell_type": "code",
   "execution_count": 4,
   "id": "9a917bcf",
   "metadata": {},
   "outputs": [
    {
     "data": {
      "text/plain": [
       "False"
      ]
     },
     "execution_count": 4,
     "metadata": {},
     "output_type": "execute_result"
    }
   ],
   "source": [
    "not b and not (a or c)"
   ]
  },
  {
   "cell_type": "markdown",
   "id": "66a806ab",
   "metadata": {},
   "source": [
    "## 2. Di bawah ini terdapat potongan kode program yang masih terdapat error (bug). Selesaikan permasalahan bug tersebut menggunakan pemahaman yang sudah dipelajari!\n",
    "#### langsung jawaban ini ya coach"
   ]
  },
  {
   "cell_type": "code",
   "execution_count": 5,
   "id": "93d96002",
   "metadata": {},
   "outputs": [
    {
     "name": "stdout",
     "output_type": "stream",
     "text": [
      "hello!\n",
      "enter something :i love nadila\n",
      "you entered :i love nadila\n"
     ]
    }
   ],
   "source": [
    "print ('hello!')\n",
    "something = input('enter something :')\n",
    "print('you entered :' + something)"
   ]
  },
  {
   "cell_type": "markdown",
   "id": "ecd4a60e",
   "metadata": {},
   "source": [
    "## 3. Lakukan hal yang sama seperti pada soal nomor 2!"
   ]
  },
  {
   "cell_type": "code",
   "execution_count": 21,
   "id": "47fdac7d",
   "metadata": {},
   "outputs": [
    {
     "name": "stdout",
     "output_type": "stream",
     "text": [
      "hello\n",
      "enter somthing :hello\n",
      "hello for you too!\n"
     ]
    }
   ],
   "source": [
    "print ('hello')\n",
    "something = input('enter somthing :')\n",
    "if something == 'hello':\n",
    "    print('hello for you too!')\n",
    "\n",
    "elif something == 'hi':\n",
    "        print ('hi there!')\n",
    "else:\n",
    "    print ('i dont know what you mean')"
   ]
  },
  {
   "cell_type": "markdown",
   "id": "2ac81c5a",
   "metadata": {},
   "source": [
    "## 4. Buatlah program yang dapat mencetak kata halo dan hai sebanyak 100 kali. contoh: halo hai halo hai … 98x !. Pastikan terdapat spasi di antara setiap perulangan kata!"
   ]
  },
  {
   "cell_type": "code",
   "execution_count": 23,
   "id": "4102ca4a",
   "metadata": {},
   "outputs": [
    {
     "name": "stdout",
     "output_type": "stream",
     "text": [
      " ini program perulangan sederhana ges\n",
      "masukan 2 suku kata dengan spasi..aku suka kamu \n",
      "aku suka kamu aku suka kamu aku suka kamu aku suka kamu aku suka kamu aku suka kamu aku suka kamu aku suka kamu aku suka kamu aku suka kamu aku suka kamu aku suka kamu aku suka kamu aku suka kamu aku suka kamu aku suka kamu aku suka kamu aku suka kamu aku suka kamu aku suka kamu aku suka kamu aku suka kamu aku suka kamu aku suka kamu aku suka kamu aku suka kamu aku suka kamu aku suka kamu aku suka kamu aku suka kamu aku suka kamu aku suka kamu aku suka kamu aku suka kamu aku suka kamu aku suka kamu aku suka kamu aku suka kamu aku suka kamu aku suka kamu aku suka kamu aku suka kamu aku suka kamu aku suka kamu aku suka kamu aku suka kamu aku suka kamu aku suka kamu aku suka kamu aku suka kamu aku suka kamu aku suka kamu aku suka kamu aku suka kamu aku suka kamu aku suka kamu aku suka kamu aku suka kamu aku suka kamu aku suka kamu aku suka kamu aku suka kamu aku suka kamu aku suka kamu aku suka kamu aku suka kamu aku suka kamu aku suka kamu aku suka kamu aku suka kamu aku suka kamu aku suka kamu aku suka kamu aku suka kamu aku suka kamu aku suka kamu aku suka kamu aku suka kamu aku suka kamu aku suka kamu aku suka kamu aku suka kamu aku suka kamu aku suka kamu aku suka kamu aku suka kamu aku suka kamu aku suka kamu aku suka kamu aku suka kamu aku suka kamu aku suka kamu aku suka kamu aku suka kamu aku suka kamu aku suka kamu aku suka kamu aku suka kamu aku suka kamu aku suka kamu \n"
     ]
    }
   ],
   "source": [
    "print(' ini program perulangan sederhana ges')\n",
    "x = input('masukan  suku kata dengan spasi..')\n",
    "print(x*100)"
   ]
  },
  {
   "cell_type": "markdown",
   "id": "ff825225",
   "metadata": {},
   "source": [
    "## 5. In this exercise, you are going to practice using conditionals (if, elif, else). You will write a small program that will determine the result of a rock, paper, scissors game, given Player 1 and Player 2’s choices. Your program will print out the result. Here are the rules of the game: \n",
    "Buatlah game suit batu-gunting-kertas sederhana. Di dalam program tersebut terdapat dua orang pemain yang dapat memilih batu/gunting/kertas menggunakan input dari pengguna. Untuk mempermudah penggambaran aturan pemenang dalam game, lengkapilah tabel kemenangan dengan menggunakan semua kemungkinan yang tersedia.\n",
    "a.\tMembuat tabel kemenangan (Boleh menggunakan format markdown di Jupyter Notebook)\n"
   ]
  },
  {
   "cell_type": "markdown",
   "id": "7fedbcf1",
   "metadata": {},
   "source": [
    "#### pemain 1 (gunting) + pemain 2 (gunting) = Seri\n",
    "#### pemain 1 (gunting) + pemain 2 (batu) = pemain 2\n",
    "#### pemain 1 (gunting) + pemain 2 (kertas) = pemain 1\n",
    "#### pemain 1 (kertas) + pemain 2 (gunting) = pemain 2\n",
    "#### pemain 1 (kertas) + pemain 2 (batu) = pemain 1\n",
    "#### pemain 1 (kertas) + pemain 2 (kertas) = seri\n",
    "#### pemain 1 (batu) + pemain 2 (gunting) = pemain 1 \n",
    "#### pemain 1 (batu) + pemain 2 (batu) = seri \n",
    "#### pemain 1 (batu) + pemain 2 (kertas) = pemain 2\n"
   ]
  },
  {
   "cell_type": "code",
   "execution_count": 104,
   "id": "81fd92ec",
   "metadata": {},
   "outputs": [
    {
     "name": "stdout",
     "output_type": "stream",
     "text": [
      "\n",
      "ini permainan gunting, batu, kertas :\n",
      "\n",
      "pilih tangan:\n",
      "\n",
      "gunting\n",
      "batu\n",
      "kertas\n",
      "player 1 pilih tangan: kertas\n",
      "player 2 pilih tangan: ashas\n",
      "salah input\n"
     ]
    }
   ],
   "source": [
    "print('\\nini permainan gunting, batu, kertas :\\n')\n",
    "\n",
    "print('pilih tangan:\\n')\n",
    "print('gunting')\n",
    "print('batu')\n",
    "print('kertas')\n",
    "\n",
    "player1 = input('player 1 pilih tangan: ')\n",
    "player2 = input('player 2 pilih tangan: ')\n",
    "if player1 ==  player2 :\n",
    "    print('\\nseri')\n",
    "    \n",
    "elif player1 == 'gunting' and player2 == 'batu':\n",
    "    print('\\nmenang player2')\n",
    "    \n",
    "elif player1 == 'gunting' and player2 == 'kertas':\n",
    "    print('\\nmenang player1')\n",
    "    \n",
    "elif player1 == 'kertas' and player2 == 'gunting':\n",
    "    print('\\nmenang player1')\n",
    "    \n",
    "elif player1 == 'kertas' and player2 == 'batu':\n",
    "    print('\\nmenang player1')\n",
    "\n",
    "elif player1 == 'batu' and player2 == 'gunting':\n",
    "    print('\\nmenang player1')\n",
    "\n",
    "elif player1 == 'batu' and player2 == 'kertas':\n",
    "    print('\\nmenang player2')\n",
    "else:\n",
    "    print('salah input')\n"
   ]
  },
  {
   "cell_type": "markdown",
   "id": "e6fdd3e8",
   "metadata": {},
   "source": [
    "## 6. Buatlah program sederhana yang menerima input secara terus menerus, akan tetapi ketika input berupa string “berhenti”, maka program tersebut akan berhenti berjalan!"
   ]
  },
  {
   "cell_type": "code",
   "execution_count": 9,
   "id": "d54c8f96",
   "metadata": {},
   "outputs": [
    {
     "name": "stdout",
     "output_type": "stream",
     "text": [
      "masukan sebuah kalimat : aski\n",
      "masukan sebuah kalimat : berhenti\n"
     ]
    }
   ],
   "source": [
    "kalimat = False\n",
    "\n",
    "while kalimat == False:\n",
    "    kata = input(\"masukan sebuah kalimat : \")\n",
    " \n",
    "    if kata == \"berhenti\":\n",
    "        kalimat = True"
   ]
  },
  {
   "cell_type": "markdown",
   "id": "671bd045",
   "metadata": {},
   "source": [
    "### 7. Dengan menggunakan konsep yang sama pada soal nomor 6, buatlah program yang dapat menampilkan menu makanan atau tertentu (minimal 3 menu). Pengguna dapat memilih salah satu dari menu yang disediakan dan menampilkan kembali menu yang dipesan beserta harganya. Program akan berhenti berjalan apabila input dari pengguna berupa string “cukup”.\n",
    "\n",
    "### nomor 8 langsung dibawah coach, jadi 1 model"
   ]
  },
  {
   "cell_type": "code",
   "execution_count": 125,
   "id": "669c2aba",
   "metadata": {
    "scrolled": true
   },
   "outputs": [
    {
     "name": "stdout",
     "output_type": "stream",
     "text": [
      "Toko jajanan sehan: \n",
      "\n",
      "menjual\n",
      "1.bakwan = 1000\n",
      "2.cilok= 1500\n",
      "3.mie = 3000\n",
      "pesan apa?:cukup\n",
      "berapa banyak?2\n"
     ]
    }
   ],
   "source": [
    "\n",
    "print('Toko jajanan sehan: ')\n",
    "print()\n",
    "print('menjual')\n",
    "print('1.bakwan = 1000')\n",
    "print('2.cilok= 1500')\n",
    "print('3.mie = 3000')\n",
    "\n",
    "pesanan = False\n",
    "\n",
    "while pesanan == False:\n",
    "    makanan = input(\"pesan apa?:\")\n",
    "    banyak = input(\"berapa banyak?\")\n",
    "    banyak=int(banyak)\n",
    "    if makanan == \"bakwan\":\n",
    "        myorder = \"kamu memesan {}  {} seharga {} ribu.\"\n",
    "        print(myorder.format(banyak, makanan, banyak*1000))\n",
    "    elif makanan == \"cilok\":\n",
    "        myorder = \"kamu memesan {}  {} seharga {} ribu.\"\n",
    "        print(myorder.format(banyak, makanan, banyak*1500))\n",
    "    elif makanan == \"mie\":\n",
    "        myorder = \"kamu memesan {}  {} seharga {} ribu.\"\n",
    "        print(myorder.format(banyak, makanan, banyak*3000))\n",
    "    elif makanan == \"cukup\":   \n",
    "        break\n"
   ]
  },
  {
   "cell_type": "code",
   "execution_count": null,
   "id": "4fb9ae93",
   "metadata": {},
   "outputs": [],
   "source": []
  }
 ],
 "metadata": {
  "kernelspec": {
   "display_name": "Python 3",
   "language": "python",
   "name": "python3"
  },
  "language_info": {
   "codemirror_mode": {
    "name": "ipython",
    "version": 3
   },
   "file_extension": ".py",
   "mimetype": "text/x-python",
   "name": "python",
   "nbconvert_exporter": "python",
   "pygments_lexer": "ipython3",
   "version": "3.8.8"
  }
 },
 "nbformat": 4,
 "nbformat_minor": 5
}
