{
 "cells": [
  {
   "cell_type": "markdown",
   "id": "95578251",
   "metadata": {},
   "source": [
    "Nama : Syechan Ahmad Zidan"
   ]
  },
  {
   "cell_type": "code",
   "execution_count": 3,
   "id": "f78e2598",
   "metadata": {},
   "outputs": [],
   "source": [
    "import numpy as np"
   ]
  },
  {
   "cell_type": "code",
   "execution_count": 22,
   "id": "c96e7bc2",
   "metadata": {
    "scrolled": false
   },
   "outputs": [],
   "source": [
    "A = np.array([[1, 2], [7,8]])\n",
    "B = np.array([[3, 5], [1,6]])"
   ]
  },
  {
   "cell_type": "markdown",
   "id": "232497fe",
   "metadata": {},
   "source": [
    "# Hitunglah:\n",
    "\n",
    "1. 2*A\n",
    "2. 2+A\n",
    "3. A+B\n",
    "4. A-B\n",
    "5. determinan A\n",
    "6. invers dari B, simpan jadi matriks D\n",
    "7. transpose D\n",
    "8. nilai eigen dan vektor eigen dari A dan B"
   ]
  },
  {
   "cell_type": "markdown",
   "id": "c1ca2fc3",
   "metadata": {},
   "source": [
    "#### NOMOR 1"
   ]
  },
  {
   "cell_type": "code",
   "execution_count": 42,
   "id": "98a8b789",
   "metadata": {},
   "outputs": [
    {
     "name": "stdout",
     "output_type": "stream",
     "text": [
      "nilai 2*A = \n",
      " [[ 2  4]\n",
      " [14 16]]\n"
     ]
    }
   ],
   "source": [
    "print (\"nilai 2*A = \\n\", np.dot(2,A))\n",
    " \n"
   ]
  },
  {
   "cell_type": "markdown",
   "id": "c0d5b271",
   "metadata": {},
   "source": [
    "#### NOMOR 2"
   ]
  },
  {
   "cell_type": "code",
   "execution_count": 40,
   "id": "3cb1a249",
   "metadata": {},
   "outputs": [
    {
     "name": "stdout",
     "output_type": "stream",
     "text": [
      "nilai 2+A = \n",
      " [[ 3  4]\n",
      " [ 9 10]]\n"
     ]
    }
   ],
   "source": [
    "print(\"nilai 2+A = \\n\",2+A)"
   ]
  },
  {
   "cell_type": "markdown",
   "id": "6e6c6880",
   "metadata": {},
   "source": [
    "#### NOMOR 3"
   ]
  },
  {
   "cell_type": "code",
   "execution_count": 44,
   "id": "c65d34cd",
   "metadata": {},
   "outputs": [
    {
     "name": "stdout",
     "output_type": "stream",
     "text": [
      "nilai A+B = \n",
      " [[ 4  7]\n",
      " [ 8 14]]\n"
     ]
    }
   ],
   "source": [
    "print(\"nilai A+B = \\n\", A+B)"
   ]
  },
  {
   "cell_type": "markdown",
   "id": "babe1765",
   "metadata": {},
   "source": [
    "#### NOMOR 4"
   ]
  },
  {
   "cell_type": "code",
   "execution_count": 39,
   "id": "ddfbee60",
   "metadata": {},
   "outputs": [
    {
     "name": "stdout",
     "output_type": "stream",
     "text": [
      "nilai A-B = \n",
      " [[-2 -3]\n",
      " [ 6  2]]\n"
     ]
    }
   ],
   "source": [
    "print(\"nilai A-B = \\n\" ,A-B)"
   ]
  },
  {
   "cell_type": "markdown",
   "id": "ef12b077",
   "metadata": {},
   "source": [
    "#### NOMOR 5"
   ]
  },
  {
   "cell_type": "code",
   "execution_count": 45,
   "id": "cccef976",
   "metadata": {},
   "outputs": [
    {
     "name": "stdout",
     "output_type": "stream",
     "text": [
      "nilai D = \n",
      " [[ 0.46153846 -0.38461538]\n",
      " [-0.07692308  0.23076923]]\n"
     ]
    }
   ],
   "source": [
    "D = np.linalg.inv(B)\n",
    "\n",
    "print(\"nilai D = \\n\",D)"
   ]
  },
  {
   "cell_type": "markdown",
   "id": "bafd30ed",
   "metadata": {},
   "source": [
    "#### NOMOR 6"
   ]
  },
  {
   "cell_type": "code",
   "execution_count": 46,
   "id": "96965ee5",
   "metadata": {},
   "outputs": [
    {
     "name": "stdout",
     "output_type": "stream",
     "text": [
      "nilai Det A = \n",
      " -6.0\n"
     ]
    }
   ],
   "source": [
    "print(\"nilai Det A = \\n\" ,np.linalg.det(A))"
   ]
  },
  {
   "cell_type": "markdown",
   "id": "3197c2ea",
   "metadata": {},
   "source": [
    "#### NOMOR 7"
   ]
  },
  {
   "cell_type": "code",
   "execution_count": 47,
   "id": "ecd4cf45",
   "metadata": {},
   "outputs": [
    {
     "name": "stdout",
     "output_type": "stream",
     "text": [
      "nilai Transpose D = \n",
      " [[ 0.46153846 -0.07692308]\n",
      " [-0.38461538  0.23076923]]\n"
     ]
    }
   ],
   "source": [
    "print(\"nilai Transpose D = \\n\", D.transpose())"
   ]
  },
  {
   "cell_type": "markdown",
   "id": "bc40a2da",
   "metadata": {},
   "source": [
    "#### NOMOR 8"
   ]
  },
  {
   "cell_type": "code",
   "execution_count": 48,
   "id": "4e7ec8eb",
   "metadata": {},
   "outputs": [
    {
     "name": "stdout",
     "output_type": "stream",
     "text": [
      "nilai dan vektor eigen matriks A = \n",
      " (array([-0.62347538,  9.62347538]), array([[-0.77640358, -0.22592838],\n",
      "       [ 0.63023605, -0.97414391]]))\n"
     ]
    }
   ],
   "source": [
    "print('nilai dan vektor eigen matriks A = \\n', np.linalg.eig(A))\n"
   ]
  },
  {
   "cell_type": "markdown",
   "id": "bc6dbff2",
   "metadata": {},
   "source": [
    "#### Apa perbedaan dari B*D (perkalian antar entry di B dan D) dan BD (perkalian matriks B dan D)?"
   ]
  },
  {
   "cell_type": "code",
   "execution_count": 51,
   "id": "ea0a0c39",
   "metadata": {},
   "outputs": [
    {
     "data": {
      "text/plain": [
       "array([[ 1.38461538, -1.92307692],\n",
       "       [-0.07692308,  1.38461538]])"
      ]
     },
     "execution_count": 51,
     "metadata": {},
     "output_type": "execute_result"
    }
   ],
   "source": [
    "B*D"
   ]
  },
  {
   "cell_type": "code",
   "execution_count": 53,
   "id": "e502dcd4",
   "metadata": {},
   "outputs": [
    {
     "name": "stdout",
     "output_type": "stream",
     "text": [
      "nilai B*D = \n",
      " [[ 1.00000000e+00 -1.11022302e-16]\n",
      " [ 1.11022302e-16  1.00000000e+00]]\n"
     ]
    }
   ],
   "source": [
    "print (\"nilai B*D = \\n\", np.matmul(B,D))"
   ]
  },
  {
   "cell_type": "markdown",
   "id": "7a28cdc0",
   "metadata": {},
   "source": [
    "Perbedaan dari 2 perkalian diatas ialah, jika yang perkalian antar entry itu hanya dikalikan tiap variabel, jika perkalian antar matrix itu dikalian sesuai kaidak matrix yaitu baris dikali dengan kolom  "
   ]
  },
  {
   "cell_type": "code",
   "execution_count": null,
   "id": "6f158326",
   "metadata": {},
   "outputs": [],
   "source": []
  }
 ],
 "metadata": {
  "kernelspec": {
   "display_name": "Python 3",
   "language": "python",
   "name": "python3"
  },
  "language_info": {
   "codemirror_mode": {
    "name": "ipython",
    "version": 3
   },
   "file_extension": ".py",
   "mimetype": "text/x-python",
   "name": "python",
   "nbconvert_exporter": "python",
   "pygments_lexer": "ipython3",
   "version": "3.8.8"
  }
 },
 "nbformat": 4,
 "nbformat_minor": 5
}
