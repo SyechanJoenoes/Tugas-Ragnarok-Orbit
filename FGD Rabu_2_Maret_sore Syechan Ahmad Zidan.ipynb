{
 "cells": [
  {
   "cell_type": "markdown",
   "id": "a55e500f",
   "metadata": {},
   "source": [
    "### 1. Write a method is divisible that takes two integers, m and n. The method returns True if\n",
    "m is divisible by n, and returns False otherwise.\n",
    "Misalkan:\n",
    "Jika, m = 2 dan n = 3, 2 tidak bisa dibagi 3. Berarti fungsi akan mereturn nilai False.\n",
    "Jika, m = 4 dan n = 2, 4 bisa dibagi 2. Berarti fungsi akan mereturn nilai True.\n",
    "\n"
   ]
  },
  {
   "cell_type": "code",
   "execution_count": 23,
   "id": "fd81189a",
   "metadata": {},
   "outputs": [
    {
     "name": "stdout",
     "output_type": "stream",
     "text": [
      "False\n",
      "True\n"
     ]
    }
   ],
   "source": [
    "def hasil(m, n):\n",
    "    return (m%n == 0)\n",
    "print(hasil(2, 3))\n",
    "print(hasil(4, 2))"
   ]
  },
  {
   "cell_type": "markdown",
   "id": "9398d3c9",
   "metadata": {},
   "source": [
    "###  2. Write a function that first displays a simple caf´e menu (see example below), asks the user to ente the number of a choice, and either prints the appropriate action OR prints an error message that their choice was not valid.\n"
   ]
  },
  {
   "cell_type": "code",
   "execution_count": 30,
   "id": "645af599",
   "metadata": {},
   "outputs": [
    {
     "name": "stdout",
     "output_type": "stream",
     "text": [
      "Toko jajanan sehan: \n",
      "\n",
      "menjual\n",
      "1.bakwan = 1000\n",
      "2.cilok= 1500\n",
      "3.mie = 3000\n",
      "pesan apa?:\n",
      "maaf kamu salah input\n"
     ]
    }
   ],
   "source": [
    "print('Toko jajanan sehan: ')\n",
    "print()\n",
    "print('menjual')\n",
    "print('1.bakwan = 1000')\n",
    "print('2.cilok= 1500')\n",
    "print('3.mie = 3000')\n",
    "\n",
    "makanan = input(\"pesan apa?:\")\n",
    "if makanan == \"bakwan\":\n",
    "        myorder = \"kamu memesan {} tunggu sebentar ya.\"\n",
    "        print(myorder.format(makanan,))\n",
    "elif makanan == \"cilok\":\n",
    "        myorder = \"kamu memesan {} tunggu sebentar ya.\"\n",
    "        print(myorder.format(makanan,))\n",
    "elif makanan == \"mie\":\n",
    "        myorder = \"kamu memesan {} tunggu sebentar ya.\"\n",
    "        print(myorder.format(makanan,))\n",
    "else:\n",
    "        print('maaf kamu salah input')\n"
   ]
  },
  {
   "cell_type": "markdown",
   "id": "1177852f",
   "metadata": {},
   "source": [
    "### 3. Write a method rand_divis_3 that takes no parameters and returns True if a number is divisible by 3, and False otherwise"
   ]
  },
  {
   "cell_type": "code",
   "execution_count": 37,
   "id": "255bd7c9",
   "metadata": {},
   "outputs": [
    {
     "name": "stdout",
     "output_type": "stream",
     "text": [
      "angka randomnya ialah 50\n",
      "apakah bisa dibagi 3?: False\n"
     ]
    }
   ],
   "source": [
    "import random\n",
    "rng = random.randint(0, 100)\n",
    "def rand_divis_3():\n",
    "    print (\"apakah bisa dibagi 3?: \" + str(rng%3 == 0))\n",
    "    print (\"angka randomnya ialah \" + str(rng))\n",
    "rand_divis_3()\n"
   ]
  },
  {
   "cell_type": "markdown",
   "id": "c7a6a02e",
   "metadata": {},
   "source": [
    " ### 4. Imagine that Python doesn’t have the != operator built in. Write a method not equal that takes two parameters and gives the same result as the != operator. Obviously, you cannot use != within your function! Test if your code works by thinking of examples and making sure the output is the same for your new method as != gives you."
   ]
  },
  {
   "cell_type": "code",
   "execution_count": 39,
   "id": "13a6b947",
   "metadata": {},
   "outputs": [
    {
     "name": "stdout",
     "output_type": "stream",
     "text": [
      "True\n",
      "False\n",
      "True\n",
      "False\n",
      "True\n"
     ]
    }
   ],
   "source": [
    "\n",
    "def tak_sama(x, y):\n",
    "    if (x == y):\n",
    "        return False\n",
    "    else:\n",
    "        return True\n",
    "\n",
    "print (tak_sama(1, 2))\n",
    "print (tak_sama(5, 5))\n",
    "print (tak_sama(1, 10))\n",
    "print (tak_sama(-2, -2))\n",
    "print (tak_sama(14, 2))\n"
   ]
  },
  {
   "cell_type": "markdown",
   "id": "15be78a5",
   "metadata": {},
   "source": [
    "###  5. What's wrong with this code?\n",
    "\n",
    "Def ask_name():\n",
    "\tName = input(“Enter Your name: “)\n",
    "\n",
    "Ask_name()\n",
    "Print(“your name is”, name\n"
   ]
  },
  {
   "cell_type": "code",
   "execution_count": 57,
   "id": "b6cd06fd",
   "metadata": {},
   "outputs": [
    {
     "name": "stdout",
     "output_type": "stream",
     "text": [
      "Enter Your name:sehan \n",
      "your name is sehan \n"
     ]
    }
   ],
   "source": [
    "name =input('Enter Your name:')  \n",
    "\n",
    "\n",
    "def ask_name(name):\n",
    "    print('your name is'+ name)\n",
    "print('your name is '+ name)\n"
   ]
  },
  {
   "cell_type": "code",
   "execution_count": null,
   "id": "c6fa5bfb",
   "metadata": {},
   "outputs": [],
   "source": []
  }
 ],
 "metadata": {
  "kernelspec": {
   "display_name": "Python 3",
   "language": "python",
   "name": "python3"
  },
  "language_info": {
   "codemirror_mode": {
    "name": "ipython",
    "version": 3
   },
   "file_extension": ".py",
   "mimetype": "text/x-python",
   "name": "python",
   "nbconvert_exporter": "python",
   "pygments_lexer": "ipython3",
   "version": "3.8.8"
  }
 },
 "nbformat": 4,
 "nbformat_minor": 5
}
